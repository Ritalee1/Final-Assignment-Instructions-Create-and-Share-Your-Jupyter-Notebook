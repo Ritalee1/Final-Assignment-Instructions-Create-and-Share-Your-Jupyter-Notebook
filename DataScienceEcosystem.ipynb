{
 "cells": [
  {
   "cell_type": "markdown",
   "id": "21457a57-bfd6-4151-b2f9-98729b7b003f",
   "metadata": {},
   "source": [
    "#Data Science Tools and Ecosystem"
   ]
  },
  {
   "cell_type": "markdown",
   "id": "0c54a77b-9dbd-4817-ac0d-46bcf622b8b5",
   "metadata": {},
   "source": [
    "In this notebook, Data Science Tools and Ecosystem are summarized."
   ]
  },
  {
   "cell_type": "markdown",
   "id": "113fcd8e-a8d9-466f-b561-fec3c22ca162",
   "metadata": {},
   "source": [
    "Some of the popular languages that Data Scientists use are:\n",
    "1. Python\n",
    "2. R\n",
    "3. SQL"
   ]
  },
  {
   "cell_type": "markdown",
   "id": "351561f2-7480-4977-a6b7-39bb390a57a4",
   "metadata": {},
   "source": [
    "Some of the commonly used libraries used by Data Scientists include: \n",
    "1. Pandas\n",
    "2. Numpy\n",
    "3. Matplotlib"
   ]
  },
  {
   "cell_type": "markdown",
   "id": "de19bf14-e08d-4a1a-a272-815fd7180a57",
   "metadata": {},
   "source": [
    "|Data Science Tools|\n",
    "|------------------|\n",
    "|Jupyter Notebook |\n",
    "|RStudio          |\n",
    "|Visual Studio Code|"
   ]
  },
  {
   "cell_type": "code",
   "execution_count": 8,
   "id": "30de3cb3-1b72-4670-a7c3-b0ea7a62fa23",
   "metadata": {},
   "outputs": [
    {
     "name": "stdout",
     "output_type": "stream",
     "text": [
      "Addition: 15\n",
      "Subtraction: 12\n",
      "Multiplication: 24\n",
      "Division: 5.0\n",
      "Exponentiation: 8\n",
      "Modulus: 3\n"
     ]
    }
   ],
   "source": [
    "###Below are a few examples of evaluating arithmetic expressions in Python\n",
    "# Addition\n",
    "result_addition = 10 + 5\n",
    "print(\"Addition:\", result_addition)\n",
    "\n",
    "# Subtraction\n",
    "result_subtraction = 20 - 8\n",
    "print(\"Subtraction:\", result_subtraction)\n",
    "\n",
    "# Multiplication\n",
    "result_multiplication = 6 * 4\n",
    "print(\"Multiplication:\", result_multiplication)\n",
    "\n",
    "# Division\n",
    "result_division = 15 / 3\n",
    "print(\"Division:\", result_division)\n",
    "\n",
    "# Exponentiation\n",
    "result_exponentiation = 2 ** 3\n",
    "print(\"Exponentiation:\", result_exponentiation)\n",
    "\n",
    "# Modulus\n",
    "result_modulus = 15 % 4\n",
    "print(\"Modulus:\", result_modulus)\n"
   ]
  },
  {
   "cell_type": "code",
   "execution_count": 9,
   "id": "87a00e39-34b3-4cfd-aecd-8178799a105e",
   "metadata": {},
   "outputs": [
    {
     "data": {
      "text/plain": [
       "17"
      ]
     },
     "execution_count": 9,
     "metadata": {},
     "output_type": "execute_result"
    }
   ],
   "source": [
    "#This a simple arithmetic expression to mutiply then add integers\n",
    "(3*4)+5"
   ]
  },
  {
   "cell_type": "code",
   "execution_count": 6,
   "id": "02bde41e-47fa-4c08-b2dd-dc7b23779431",
   "metadata": {},
   "outputs": [
    {
     "data": {
      "text/plain": [
       "3.3333333333333335"
      ]
     },
     "execution_count": 6,
     "metadata": {},
     "output_type": "execute_result"
    }
   ],
   "source": [
    "#This will convert 200 minutes to hours by diving by 60\n",
    "# Convert minutes to hours\n",
    "minutes = 200\n",
    "hours = minutes / 60\n",
    "hours\n",
    "\n",
    "\n"
   ]
  },
  {
   "cell_type": "markdown",
   "id": "31a50e71-fa09-496c-a17b-6a86d5a14c9b",
   "metadata": {},
   "source": [
    "**Objectives:**\n",
    "\n",
    "- List popular languages for Data Science\n",
    "- Identify commonly used libraries in Data Science\n",
    "- Recognize open-source development environment tools used in Data Science\n"
   ]
  },
  {
   "cell_type": "markdown",
   "id": "48e6c2e9-8aa3-4023-ba53-709960e13332",
   "metadata": {},
   "source": [
    "##Author\n",
    "Ritaee Monde"
   ]
  },
  {
   "cell_type": "code",
   "execution_count": null,
   "id": "89316371-2a1c-4659-ac39-c445d2217d3b",
   "metadata": {},
   "outputs": [],
   "source": []
  }
 ],
 "metadata": {
  "kernelspec": {
   "display_name": "Python 3 (ipykernel)",
   "language": "python",
   "name": "python3"
  },
  "language_info": {
   "codemirror_mode": {
    "name": "ipython",
    "version": 3
   },
   "file_extension": ".py",
   "mimetype": "text/x-python",
   "name": "python",
   "nbconvert_exporter": "python",
   "pygments_lexer": "ipython3",
   "version": "3.11.7"
  }
 },
 "nbformat": 4,
 "nbformat_minor": 5
}
